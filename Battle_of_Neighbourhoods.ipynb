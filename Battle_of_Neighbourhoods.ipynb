{
  "nbformat": 4,
  "nbformat_minor": 0,
  "metadata": {
    "colab": {
      "name": "Battle of Neighbourhoods.ipynb",
      "provenance": [],
      "collapsed_sections": [],
      "authorship_tag": "ABX9TyPGquxGcG4Rn2OdWhDA+bAW",
      "include_colab_link": true
    },
    "kernelspec": {
      "name": "python3",
      "display_name": "Python 3"
    }
  },
  "cells": [
    {
      "cell_type": "markdown",
      "metadata": {
        "id": "view-in-github",
        "colab_type": "text"
      },
      "source": [
        "<a href=\"https://colab.research.google.com/github/RaghunathSai/Applied-Data-Science-Capstone/blob/master/Battle_of_Neighbourhoods.ipynb\" target=\"_parent\"><img src=\"https://colab.research.google.com/assets/colab-badge.svg\" alt=\"Open In Colab\"/></a>"
      ]
    },
    {
      "cell_type": "code",
      "metadata": {
        "id": "1XFS74jDC0yt",
        "colab_type": "code",
        "colab": {
          "base_uri": "https://localhost:8080/",
          "height": 34
        },
        "outputId": "9819f46c-6253-4d04-f1f1-72eb105ec2a1"
      },
      "source": [
        "import pandas as pd\n",
        "import numpy as np\n",
        "pd.set_option('display.max_columns', None)\n",
        "pd.set_option('display.max_rows', None)\n",
        "import requests\n",
        "from bs4 import BeautifulSoup\n",
        "#!pip install geocoder\n",
        "import geocoder\n",
        "import os\n",
        "#!pip install folium\n",
        "import folium # map rendering library\n",
        "from geopy.geocoders import Nominatim # convert an address into latitude and longitude values\n",
        "# Matplotlib and associated plotting modules\n",
        "import matplotlib.pyplot as plt\n",
        "import matplotlib.cm as cm\n",
        "import matplotlib.colors as colors\n",
        "%matplotlib inline\n",
        "\n",
        "\n",
        "print('Libraries imported.')"
      ],
      "execution_count": 28,
      "outputs": [
        {
          "output_type": "stream",
          "text": [
            "Libraries imported.\n"
          ],
          "name": "stdout"
        }
      ]
    },
    {
      "cell_type": "code",
      "metadata": {
        "id": "rglYRDsKGELA",
        "colab_type": "code",
        "colab": {}
      },
      "source": [
        "CLIENT_ID = 'HSV4U5PIMX4QAP3DM0YC3XWZWXHFAQBBVBWMENEV5Q3MQ1P4' # your Foursquare ID\n",
        "CLIENT_SECRET = 'UYWW4G5ETWIM0UTUGP0YO50EQHVPSC0VBHCZVJVOMUHB3TAK' # your Foursquare Secret"
      ],
      "execution_count": 0,
      "outputs": []
    },
    {
      "cell_type": "code",
      "metadata": {
        "id": "YpDGrZT3C0s6",
        "colab_type": "code",
        "colab": {}
      },
      "source": [
        "def get_venues(lat,lng):\n",
        "    \n",
        "    #set variables\n",
        "    radius=1000\n",
        "    LIMIT=100\n",
        "    \n",
        "    VERSION = '20200401' # Foursquare API version\n",
        "    \n",
        "    #url to fetch data from foursquare api\n",
        "    url = 'https://api.foursquare.com/v2/venues/explore?&client_id={}&client_secret={}&v={}&ll={},{}&radius={}&limit={}'.format(\n",
        "            CLIENT_ID, \n",
        "            CLIENT_SECRET, \n",
        "            VERSION, \n",
        "            lat, \n",
        "            lng, \n",
        "            radius, \n",
        "            LIMIT)\n",
        "    \n",
        "    # get all the data\n",
        "    results = requests.get(url).json()\n",
        "    venue_data=results[\"response\"]['groups'][0]['items']\n",
        "    venue_details=[]\n",
        "    for row in venue_data:\n",
        "        try:\n",
        "            venue_id=row['venue']['id']\n",
        "            venue_name=row['venue']['name']\n",
        "            venue_category=row['venue']['categories'][0]['name']\n",
        "            venue_details.append([venue_id,venue_name,venue_category])\n",
        "        except KeyError:\n",
        "            pass\n",
        "        \n",
        "    column_names=['ID','Name','Category']\n",
        "    df = pd.DataFrame(venue_details,columns=column_names)\n",
        "    return df"
      ],
      "execution_count": 0,
      "outputs": []
    },
    {
      "cell_type": "code",
      "metadata": {
        "id": "OzYduKXBC0qX",
        "colab_type": "code",
        "colab": {}
      },
      "source": [
        "def get_venue_details(venue_id):\n",
        "        \n",
        "    \n",
        "    VERSION = '20200401' # Foursquare API version\n",
        "    \n",
        "    #url to fetch data from foursquare api\n",
        "    url = 'https://api.foursquare.com/v2/venues/{}?&client_id={}&client_secret={}&v={}'.format(\n",
        "            venue_id,\n",
        "            CLIENT_ID, \n",
        "            CLIENT_SECRET, \n",
        "            VERSION)\n",
        "    \n",
        "    # get all the data\n",
        "    results = requests.get(url).json()\n",
        "    venue_data=results['response']['venue']\n",
        "    venue_details=[]\n",
        "    try:\n",
        "        venue_id=venue_data['id']\n",
        "        venue_name=venue_data['name']\n",
        "        venue_likes=venue_data['likes']['count']\n",
        "        venue_rating=venue_data['rating']\n",
        "        venue_tips=venue_data['tips']['count']\n",
        "        venue_details.append([venue_id,venue_name,venue_likes,venue_rating,venue_tips])\n",
        "    except KeyError:\n",
        "        pass\n",
        "        \n",
        "    column_names=['ID','Name','Likes','Rating','Tips']\n",
        "    df = pd.DataFrame(venue_details,columns=column_names)\n",
        "    return df"
      ],
      "execution_count": 0,
      "outputs": []
    },
    {
      "cell_type": "code",
      "metadata": {
        "id": "2t1AVEYpIER2",
        "colab_type": "code",
        "colab": {
          "base_uri": "https://localhost:8080/",
          "height": 514
        },
        "outputId": "c8812949-48b6-403d-e769-03da37132484"
      },
      "source": [
        "df = pd.read_csv('toronto.csv',sep=';',header=None)\n",
        "df.columns=[\"Postalcode\",\"Borough\",\"Neighborhood\"]\n",
        "indexNames = df[ df['Borough'] =='Not assigned'].index\n",
        "df.drop(indexNames , inplace=True)\n",
        "df.loc[df['Neighborhood'] =='Not assigned' , 'Neighborhood'] = df['Borough']\n",
        "result = df.groupby(['Postalcode','Borough'], sort=False).agg( ', '.join)\n",
        "df_new=result.reset_index()\n",
        "df_new.head(15)"
      ],
      "execution_count": 32,
      "outputs": [
        {
          "output_type": "execute_result",
          "data": {
            "text/html": [
              "<div>\n",
              "<style scoped>\n",
              "    .dataframe tbody tr th:only-of-type {\n",
              "        vertical-align: middle;\n",
              "    }\n",
              "\n",
              "    .dataframe tbody tr th {\n",
              "        vertical-align: top;\n",
              "    }\n",
              "\n",
              "    .dataframe thead th {\n",
              "        text-align: right;\n",
              "    }\n",
              "</style>\n",
              "<table border=\"1\" class=\"dataframe\">\n",
              "  <thead>\n",
              "    <tr style=\"text-align: right;\">\n",
              "      <th></th>\n",
              "      <th>Postalcode</th>\n",
              "      <th>Borough</th>\n",
              "      <th>Neighborhood</th>\n",
              "    </tr>\n",
              "  </thead>\n",
              "  <tbody>\n",
              "    <tr>\n",
              "      <th>0</th>\n",
              "      <td>M3A</td>\n",
              "      <td>North York</td>\n",
              "      <td>Parkwoods</td>\n",
              "    </tr>\n",
              "    <tr>\n",
              "      <th>1</th>\n",
              "      <td>M4A</td>\n",
              "      <td>North York</td>\n",
              "      <td>Victoria Village</td>\n",
              "    </tr>\n",
              "    <tr>\n",
              "      <th>2</th>\n",
              "      <td>M5A</td>\n",
              "      <td>Downtown Toronto</td>\n",
              "      <td>Regent Park, Harbourfront</td>\n",
              "    </tr>\n",
              "    <tr>\n",
              "      <th>3</th>\n",
              "      <td>M6A</td>\n",
              "      <td>North York</td>\n",
              "      <td>Lawrence Manor, Lawrence Heights</td>\n",
              "    </tr>\n",
              "    <tr>\n",
              "      <th>4</th>\n",
              "      <td>M7A</td>\n",
              "      <td>Downtown Toronto</td>\n",
              "      <td>Queen's Park, Ontario Provincial Government</td>\n",
              "    </tr>\n",
              "    <tr>\n",
              "      <th>5</th>\n",
              "      <td>M9A</td>\n",
              "      <td>Etobicoke</td>\n",
              "      <td>Islington Avenue, Humber Valley Village</td>\n",
              "    </tr>\n",
              "    <tr>\n",
              "      <th>6</th>\n",
              "      <td>M1B</td>\n",
              "      <td>Scarborough</td>\n",
              "      <td>Malvern, Rouge</td>\n",
              "    </tr>\n",
              "    <tr>\n",
              "      <th>7</th>\n",
              "      <td>M3B</td>\n",
              "      <td>North York</td>\n",
              "      <td>Don Mills</td>\n",
              "    </tr>\n",
              "    <tr>\n",
              "      <th>8</th>\n",
              "      <td>M4B</td>\n",
              "      <td>East York</td>\n",
              "      <td>Parkview Hill, Woodbine Gardens</td>\n",
              "    </tr>\n",
              "    <tr>\n",
              "      <th>9</th>\n",
              "      <td>M5B</td>\n",
              "      <td>Downtown Toronto</td>\n",
              "      <td>Garden District, Ryerson</td>\n",
              "    </tr>\n",
              "    <tr>\n",
              "      <th>10</th>\n",
              "      <td>M6B</td>\n",
              "      <td>North York</td>\n",
              "      <td>Glencairn</td>\n",
              "    </tr>\n",
              "    <tr>\n",
              "      <th>11</th>\n",
              "      <td>M9B</td>\n",
              "      <td>Etobicoke</td>\n",
              "      <td>West Deane Park, Princess Gardens, Martin Grov...</td>\n",
              "    </tr>\n",
              "    <tr>\n",
              "      <th>12</th>\n",
              "      <td>M1C</td>\n",
              "      <td>Scarborough</td>\n",
              "      <td>Rouge Hill, Port Union, Highland Creek</td>\n",
              "    </tr>\n",
              "    <tr>\n",
              "      <th>13</th>\n",
              "      <td>M3C</td>\n",
              "      <td>North York</td>\n",
              "      <td>Don Mills</td>\n",
              "    </tr>\n",
              "    <tr>\n",
              "      <th>14</th>\n",
              "      <td>M4C</td>\n",
              "      <td>East York</td>\n",
              "      <td>Woodbine Heights</td>\n",
              "    </tr>\n",
              "  </tbody>\n",
              "</table>\n",
              "</div>"
            ],
            "text/plain": [
              "   Postalcode           Borough  \\\n",
              "0         M3A        North York   \n",
              "1         M4A        North York   \n",
              "2         M5A  Downtown Toronto   \n",
              "3         M6A        North York   \n",
              "4         M7A  Downtown Toronto   \n",
              "5         M9A         Etobicoke   \n",
              "6         M1B       Scarborough   \n",
              "7         M3B        North York   \n",
              "8         M4B         East York   \n",
              "9         M5B  Downtown Toronto   \n",
              "10        M6B        North York   \n",
              "11        M9B         Etobicoke   \n",
              "12        M1C       Scarborough   \n",
              "13        M3C        North York   \n",
              "14        M4C         East York   \n",
              "\n",
              "                                         Neighborhood  \n",
              "0                                           Parkwoods  \n",
              "1                                    Victoria Village  \n",
              "2                           Regent Park, Harbourfront  \n",
              "3                    Lawrence Manor, Lawrence Heights  \n",
              "4         Queen's Park, Ontario Provincial Government  \n",
              "5             Islington Avenue, Humber Valley Village  \n",
              "6                                      Malvern, Rouge  \n",
              "7                                           Don Mills  \n",
              "8                     Parkview Hill, Woodbine Gardens  \n",
              "9                            Garden District, Ryerson  \n",
              "10                                          Glencairn  \n",
              "11  West Deane Park, Princess Gardens, Martin Grov...  \n",
              "12             Rouge Hill, Port Union, Highland Creek  \n",
              "13                                          Don Mills  \n",
              "14                                   Woodbine Heights  "
            ]
          },
          "metadata": {
            "tags": []
          },
          "execution_count": 32
        }
      ]
    },
    {
      "cell_type": "code",
      "metadata": {
        "id": "uWVaJqrEI-hG",
        "colab_type": "code",
        "colab": {
          "base_uri": "https://localhost:8080/",
          "height": 204
        },
        "outputId": "40ed47df-726c-4353-f3c6-449d30bd1667"
      },
      "source": [
        "df_lon_lat = pd.read_csv('Geospatial_Coordinates.csv')\n",
        "df_lon_lat.columns=['Postalcode','Latitude','Longitude']\n",
        "Toronto_df = pd.merge(df_new,\n",
        "                 df_lon_lat[['Postalcode','Latitude', 'Longitude']],\n",
        "                 on='Postalcode')\n",
        "Toronto_df.head()"
      ],
      "execution_count": 33,
      "outputs": [
        {
          "output_type": "execute_result",
          "data": {
            "text/html": [
              "<div>\n",
              "<style scoped>\n",
              "    .dataframe tbody tr th:only-of-type {\n",
              "        vertical-align: middle;\n",
              "    }\n",
              "\n",
              "    .dataframe tbody tr th {\n",
              "        vertical-align: top;\n",
              "    }\n",
              "\n",
              "    .dataframe thead th {\n",
              "        text-align: right;\n",
              "    }\n",
              "</style>\n",
              "<table border=\"1\" class=\"dataframe\">\n",
              "  <thead>\n",
              "    <tr style=\"text-align: right;\">\n",
              "      <th></th>\n",
              "      <th>Postalcode</th>\n",
              "      <th>Borough</th>\n",
              "      <th>Neighborhood</th>\n",
              "      <th>Latitude</th>\n",
              "      <th>Longitude</th>\n",
              "    </tr>\n",
              "  </thead>\n",
              "  <tbody>\n",
              "    <tr>\n",
              "      <th>0</th>\n",
              "      <td>M3A</td>\n",
              "      <td>North York</td>\n",
              "      <td>Parkwoods</td>\n",
              "      <td>43.753259</td>\n",
              "      <td>-79.329656</td>\n",
              "    </tr>\n",
              "    <tr>\n",
              "      <th>1</th>\n",
              "      <td>M4A</td>\n",
              "      <td>North York</td>\n",
              "      <td>Victoria Village</td>\n",
              "      <td>43.725882</td>\n",
              "      <td>-79.315572</td>\n",
              "    </tr>\n",
              "    <tr>\n",
              "      <th>2</th>\n",
              "      <td>M5A</td>\n",
              "      <td>Downtown Toronto</td>\n",
              "      <td>Regent Park, Harbourfront</td>\n",
              "      <td>43.654260</td>\n",
              "      <td>-79.360636</td>\n",
              "    </tr>\n",
              "    <tr>\n",
              "      <th>3</th>\n",
              "      <td>M6A</td>\n",
              "      <td>North York</td>\n",
              "      <td>Lawrence Manor, Lawrence Heights</td>\n",
              "      <td>43.718518</td>\n",
              "      <td>-79.464763</td>\n",
              "    </tr>\n",
              "    <tr>\n",
              "      <th>4</th>\n",
              "      <td>M7A</td>\n",
              "      <td>Downtown Toronto</td>\n",
              "      <td>Queen's Park, Ontario Provincial Government</td>\n",
              "      <td>43.662301</td>\n",
              "      <td>-79.389494</td>\n",
              "    </tr>\n",
              "  </tbody>\n",
              "</table>\n",
              "</div>"
            ],
            "text/plain": [
              "  Postalcode           Borough                                 Neighborhood  \\\n",
              "0        M3A        North York                                    Parkwoods   \n",
              "1        M4A        North York                             Victoria Village   \n",
              "2        M5A  Downtown Toronto                    Regent Park, Harbourfront   \n",
              "3        M6A        North York             Lawrence Manor, Lawrence Heights   \n",
              "4        M7A  Downtown Toronto  Queen's Park, Ontario Provincial Government   \n",
              "\n",
              "    Latitude  Longitude  \n",
              "0  43.753259 -79.329656  \n",
              "1  43.725882 -79.315572  \n",
              "2  43.654260 -79.360636  \n",
              "3  43.718518 -79.464763  \n",
              "4  43.662301 -79.389494  "
            ]
          },
          "metadata": {
            "tags": []
          },
          "execution_count": 33
        }
      ]
    },
    {
      "cell_type": "code",
      "metadata": {
        "id": "3X1DgcR9C0kg",
        "colab_type": "code",
        "colab": {
          "base_uri": "https://localhost:8080/",
          "height": 204
        },
        "outputId": "519429f7-4164-4cc7-967c-b22d1f9c1bee"
      },
      "source": [
        "Toronto_data=Toronto_df[['Borough','Neighborhood','Latitude','Longitude']]\n",
        "Toronto_data.head()"
      ],
      "execution_count": 34,
      "outputs": [
        {
          "output_type": "execute_result",
          "data": {
            "text/html": [
              "<div>\n",
              "<style scoped>\n",
              "    .dataframe tbody tr th:only-of-type {\n",
              "        vertical-align: middle;\n",
              "    }\n",
              "\n",
              "    .dataframe tbody tr th {\n",
              "        vertical-align: top;\n",
              "    }\n",
              "\n",
              "    .dataframe thead th {\n",
              "        text-align: right;\n",
              "    }\n",
              "</style>\n",
              "<table border=\"1\" class=\"dataframe\">\n",
              "  <thead>\n",
              "    <tr style=\"text-align: right;\">\n",
              "      <th></th>\n",
              "      <th>Borough</th>\n",
              "      <th>Neighborhood</th>\n",
              "      <th>Latitude</th>\n",
              "      <th>Longitude</th>\n",
              "    </tr>\n",
              "  </thead>\n",
              "  <tbody>\n",
              "    <tr>\n",
              "      <th>0</th>\n",
              "      <td>North York</td>\n",
              "      <td>Parkwoods</td>\n",
              "      <td>43.753259</td>\n",
              "      <td>-79.329656</td>\n",
              "    </tr>\n",
              "    <tr>\n",
              "      <th>1</th>\n",
              "      <td>North York</td>\n",
              "      <td>Victoria Village</td>\n",
              "      <td>43.725882</td>\n",
              "      <td>-79.315572</td>\n",
              "    </tr>\n",
              "    <tr>\n",
              "      <th>2</th>\n",
              "      <td>Downtown Toronto</td>\n",
              "      <td>Regent Park, Harbourfront</td>\n",
              "      <td>43.654260</td>\n",
              "      <td>-79.360636</td>\n",
              "    </tr>\n",
              "    <tr>\n",
              "      <th>3</th>\n",
              "      <td>North York</td>\n",
              "      <td>Lawrence Manor, Lawrence Heights</td>\n",
              "      <td>43.718518</td>\n",
              "      <td>-79.464763</td>\n",
              "    </tr>\n",
              "    <tr>\n",
              "      <th>4</th>\n",
              "      <td>Downtown Toronto</td>\n",
              "      <td>Queen's Park, Ontario Provincial Government</td>\n",
              "      <td>43.662301</td>\n",
              "      <td>-79.389494</td>\n",
              "    </tr>\n",
              "  </tbody>\n",
              "</table>\n",
              "</div>"
            ],
            "text/plain": [
              "            Borough                                 Neighborhood   Latitude  \\\n",
              "0        North York                                    Parkwoods  43.753259   \n",
              "1        North York                             Victoria Village  43.725882   \n",
              "2  Downtown Toronto                    Regent Park, Harbourfront  43.654260   \n",
              "3        North York             Lawrence Manor, Lawrence Heights  43.718518   \n",
              "4  Downtown Toronto  Queen's Park, Ontario Provincial Government  43.662301   \n",
              "\n",
              "   Longitude  \n",
              "0 -79.329656  \n",
              "1 -79.315572  \n",
              "2 -79.360636  \n",
              "3 -79.464763  \n",
              "4 -79.389494  "
            ]
          },
          "metadata": {
            "tags": []
          },
          "execution_count": 34
        }
      ]
    },
    {
      "cell_type": "code",
      "metadata": {
        "id": "ByaKbfoYC0XZ",
        "colab_type": "code",
        "colab": {
          "base_uri": "https://localhost:8080/",
          "height": 34
        },
        "outputId": "707e212a-d281-4059-a1b9-358f14c8ef51"
      },
      "source": [
        "Toronto_data.shape"
      ],
      "execution_count": 35,
      "outputs": [
        {
          "output_type": "execute_result",
          "data": {
            "text/plain": [
              "(103, 4)"
            ]
          },
          "metadata": {
            "tags": []
          },
          "execution_count": 35
        }
      ]
    },
    {
      "cell_type": "code",
      "metadata": {
        "id": "OVWX78wEFLJ2",
        "colab_type": "code",
        "colab": {
          "base_uri": "https://localhost:8080/",
          "height": 601
        },
        "outputId": "07bb3bb2-ac24-4c4a-e1fe-9b7ae7dabec6"
      },
      "source": [
        "plt.figure(figsize=(9,5), dpi = 100)\n",
        "# title\n",
        "plt.title('Number of Neighborhood for each Borough in Toronto City')\n",
        "#On x-axis\n",
        "plt.xlabel('Borough', fontsize = 15)\n",
        "#On y-axis\n",
        "plt.ylabel('No.of Neighborhood', fontsize=15)\n",
        "#giving a bar plot\n",
        "Toronto_data.groupby('Borough')['Neighborhood'].count().plot(kind='bar')\n",
        "#legend\n",
        "plt.legend()\n",
        "#displays the plot\n",
        "plt.show()"
      ],
      "execution_count": 36,
      "outputs": [
        {
          "output_type": "display_data",
          "data": {
            "image/png": "[encoded data removed]",
            "text/plain": [
              "<Figure size 900x500 with 1 Axes>"
            ]
          },
          "metadata": {
            "tags": [],
            "needs_background": "light"
          }
        }
      ]
    },
    {
      "cell_type": "code",
      "metadata": {
        "id": "Cmf-orqcFLI6",
        "colab_type": "code",
        "colab": {
          "base_uri": "https://localhost:8080/",
          "height": 1000
        },
        "outputId": "9a0cea58-8185-42b9-ffd5-67168c5dc473"
      },
      "source": [
        "# prepare neighborhood list that contains indian resturants\n",
        "column_names=['Borough', 'Neighborhood', 'ID','Name']\n",
        "indian_rest_tor=pd.DataFrame(columns=column_names)\n",
        "count=1\n",
        "for row in Toronto_data.values.tolist():\n",
        "    Borough, Neighborhood, Latitude, Longitude=row\n",
        "    venues = get_venues(Latitude,Longitude)\n",
        "    indian_resturants=venues[venues['Category']=='Indian Restaurant']   \n",
        "    print('(',count,'/',len(Toronto_data),')','Indian Resturants in '+Neighborhood+', '+Borough+':'+str(len(indian_resturants)))\n",
        "    for resturant_detail in indian_resturants.values.tolist():\n",
        "        id, name , category=resturant_detail\n",
        "        indian_rest_tor = indian_rest_tor.append({'Borough': Borough,\n",
        "                                                'Neighborhood': Neighborhood, \n",
        "                                                'ID': id,\n",
        "                                                'Name' : name\n",
        "                                               }, ignore_index=True)\n",
        "    count+=1"
      ],
      "execution_count": 38,
      "outputs": [
        {
          "output_type": "stream",
          "text": [
            "( 1 / 103 ) Indian Resturants in Parkwoods, North York:0\n",
            "( 2 / 103 ) Indian Resturants in Victoria Village, North York:0\n",
            "( 3 / 103 ) Indian Resturants in Regent Park, Harbourfront, Downtown Toronto:2\n",
            "( 4 / 103 ) Indian Resturants in Lawrence Manor, Lawrence Heights, North York:0\n",
            "( 5 / 103 ) Indian Resturants in Queen's Park, Ontario Provincial Government, Downtown Toronto:1\n",
            "( 6 / 103 ) Indian Resturants in Islington Avenue, Humber Valley Village, Etobicoke:0\n",
            "( 7 / 103 ) Indian Resturants in Malvern, Rouge, Scarborough:0\n",
            "( 8 / 103 ) Indian Resturants in Don Mills, North York:0\n",
            "( 9 / 103 ) Indian Resturants in Parkview Hill, Woodbine Gardens, East York:0\n",
            "( 10 / 103 ) Indian Resturants in Garden District, Ryerson, Downtown Toronto:0\n",
            "( 11 / 103 ) Indian Resturants in Glencairn, North York:0\n",
            "( 12 / 103 ) Indian Resturants in West Deane Park, Princess Gardens, Martin Grove, Islington, Cloverdale, Etobicoke:0\n",
            "( 13 / 103 ) Indian Resturants in Rouge Hill, Port Union, Highland Creek, Scarborough:0\n",
            "( 14 / 103 ) Indian Resturants in Don Mills, North York:0\n",
            "( 15 / 103 ) Indian Resturants in Woodbine Heights, East York:0\n",
            "( 16 / 103 ) Indian Resturants in St. James Town, Downtown Toronto:0\n",
            "( 17 / 103 ) Indian Resturants in Humewood-Cedarvale, York:0\n",
            "( 18 / 103 ) Indian Resturants in Eringate, Bloordale Gardens, Old Burnhamthorpe, Markland Wood, Etobicoke:0\n",
            "( 19 / 103 ) Indian Resturants in Guildwood, Morningside, West Hill, Scarborough:0\n",
            "( 20 / 103 ) Indian Resturants in The Beaches, East Toronto:1\n",
            "( 21 / 103 ) Indian Resturants in Berczy Park, Downtown Toronto:0\n",
            "( 22 / 103 ) Indian Resturants in Caledonia-Fairbanks, York:0\n",
            "( 23 / 103 ) Indian Resturants in Woburn, Scarborough:1\n",
            "( 24 / 103 ) Indian Resturants in Leaside, East York:1\n",
            "( 25 / 103 ) Indian Resturants in Central Bay Street, Downtown Toronto:0\n",
            "( 26 / 103 ) Indian Resturants in Christie, Downtown Toronto:2\n",
            "( 27 / 103 ) Indian Resturants in Cedarbrae, Scarborough:2\n",
            "( 28 / 103 ) Indian Resturants in Hillcrest Village, North York:0\n",
            "( 29 / 103 ) Indian Resturants in Bathurst Manor, Wilson Heights, Downsview North, North York:0\n",
            "( 30 / 103 ) Indian Resturants in Thorncliffe Park, East York:3\n",
            "( 31 / 103 ) Indian Resturants in Richmond, Adelaide, King, Downtown Toronto:0\n",
            "( 32 / 103 ) Indian Resturants in Dufferin, Dovercourt Village, West Toronto:0\n",
            "( 33 / 103 ) Indian Resturants in Scarborough Village, Scarborough:0\n",
            "( 34 / 103 ) Indian Resturants in Fairview, Henry Farm, Oriole, North York:0\n",
            "( 35 / 103 ) Indian Resturants in Northwood Park, York University, North York:0\n",
            "( 36 / 103 ) Indian Resturants in East Toronto, Broadview North (Old East York), East York:1\n",
            "( 37 / 103 ) Indian Resturants in Harbourfront East, Union Station, Toronto Islands, Downtown Toronto:1\n",
            "( 38 / 103 ) Indian Resturants in Little Portugal, Trinity, West Toronto:0\n",
            "( 39 / 103 ) Indian Resturants in Kennedy Park, Ionview, East Birchmount Park, Scarborough:0\n",
            "( 40 / 103 ) Indian Resturants in Bayview Village, North York:0\n",
            "( 41 / 103 ) Indian Resturants in Downsview, North York:0\n",
            "( 42 / 103 ) Indian Resturants in The Danforth West, Riverdale, East Toronto:1\n",
            "( 43 / 103 ) Indian Resturants in Toronto Dominion Centre, Design Exchange, Downtown Toronto:0\n",
            "( 44 / 103 ) Indian Resturants in Brockton, Parkdale Village, Exhibition Place, West Toronto:2\n",
            "( 45 / 103 ) Indian Resturants in Golden Mile, Clairlea, Oakridge, Scarborough:0\n",
            "( 46 / 103 ) Indian Resturants in York Mills, Silver Hills, North York:0\n",
            "( 47 / 103 ) Indian Resturants in Downsview, North York:0\n",
            "( 48 / 103 ) Indian Resturants in India Bazaar, The Beaches West, East Toronto:8\n",
            "( 49 / 103 ) Indian Resturants in Commerce Court, Victoria Hotel, Downtown Toronto:0\n",
            "( 50 / 103 ) Indian Resturants in North Park, Maple Leaf Park, Upwood Park, North York:0\n",
            "( 51 / 103 ) Indian Resturants in Humber Summit, North York:0\n",
            "( 52 / 103 ) Indian Resturants in Cliffside, Cliffcrest, Scarborough Village West, Scarborough:0\n",
            "( 53 / 103 ) Indian Resturants in Willowdale, Newtonbrook, North York:1\n",
            "( 54 / 103 ) Indian Resturants in Downsview, North York:0\n",
            "( 55 / 103 ) Indian Resturants in Studio District, East Toronto:0\n",
            "( 56 / 103 ) Indian Resturants in Bedford Park, Lawrence Manor East, North York:1\n",
            "( 57 / 103 ) Indian Resturants in Del Ray, Mount Dennis, Keelsdale and Silverthorn, York:0\n",
            "( 58 / 103 ) Indian Resturants in Humberlea, Emery, North York:0\n",
            "( 59 / 103 ) Indian Resturants in Birch Cliff, Cliffside West, Scarborough:0\n",
            "( 60 / 103 ) Indian Resturants in Willowdale, Willowdale East, North York:0\n",
            "( 61 / 103 ) Indian Resturants in Downsview, North York:0\n",
            "( 62 / 103 ) Indian Resturants in Lawrence Park, Central Toronto:0\n",
            "( 63 / 103 ) Indian Resturants in Roselawn, Central Toronto:0\n",
            "( 64 / 103 ) Indian Resturants in Runnymede, The Junction North, York:1\n",
            "( 65 / 103 ) Indian Resturants in Weston, York:0\n",
            "( 66 / 103 ) Indian Resturants in Dorset Park, Wexford Heights, Scarborough Town Centre, Scarborough:2\n",
            "( 67 / 103 ) Indian Resturants in York Mills West, North York:0\n",
            "( 68 / 103 ) Indian Resturants in Davisville North, Central Toronto:0\n",
            "( 69 / 103 ) Indian Resturants in Forest Hill North & West, Forest Hill Road Park, Central Toronto:0\n",
            "( 70 / 103 ) Indian Resturants in High Park, The Junction South, West Toronto:1\n",
            "( 71 / 103 ) Indian Resturants in Westmount, Etobicoke:0\n",
            "( 72 / 103 ) Indian Resturants in Wexford, Maryvale, Scarborough:1\n",
            "( 73 / 103 ) Indian Resturants in Willowdale, Willowdale West, North York:0\n",
            "( 74 / 103 ) Indian Resturants in North Toronto West,  Lawrence Park, Central Toronto:0\n",
            "( 75 / 103 ) Indian Resturants in The Annex, North Midtown, Yorkville, Central Toronto:2\n",
            "( 76 / 103 ) Indian Resturants in Parkdale, Roncesvalles, West Toronto:0\n",
            "( 77 / 103 ) Indian Resturants in Canada Post Gateway Processing Centre, Mississauga:2\n",
            "( 78 / 103 ) Indian Resturants in Kingsview Village, St. Phillips, Martin Grove Gardens, Richview Gardens, Etobicoke:0\n",
            "( 79 / 103 ) Indian Resturants in Agincourt, Scarborough:1\n",
            "( 80 / 103 ) Indian Resturants in Davisville, Central Toronto:3\n",
            "( 81 / 103 ) Indian Resturants in University of Toronto, Harbord, Downtown Toronto:0\n",
            "( 82 / 103 ) Indian Resturants in Runnymede, Swansea, West Toronto:1\n",
            "( 83 / 103 ) Indian Resturants in Clarks Corners, Tam O'Shanter, Sullivan, Scarborough:0\n",
            "( 84 / 103 ) Indian Resturants in Moore Park, Summerhill East, Central Toronto:0\n",
            "( 85 / 103 ) Indian Resturants in Kensington Market, Chinatown, Grange Park, Downtown Toronto:0\n",
            "( 86 / 103 ) Indian Resturants in Milliken, Agincourt North, Steeles East, L'Amoreaux East, Scarborough:0\n",
            "( 87 / 103 ) Indian Resturants in Summerhill West, Rathnelly, South Hill, Forest Hill SE, Deer Park, Central Toronto:0\n",
            "( 88 / 103 ) Indian Resturants in CN Tower, King and Spadina, Railway Lands, Harbourfront West, Bathurst Quay, South Niagara, Island airport, Downtown Toronto:0\n",
            "( 89 / 103 ) Indian Resturants in New Toronto, Mimico South, Humber Bay Shores, Etobicoke:1\n",
            "( 90 / 103 ) Indian Resturants in South Steeles, Silverstone, Humbergate, Jamestown, Mount Olive, Beaumond Heights, Thistletown, Albion Gardens, Etobicoke:0\n",
            "( 91 / 103 ) Indian Resturants in Steeles West, L'Amoreaux West, Scarborough:0\n",
            "( 92 / 103 ) Indian Resturants in Rosedale, Downtown Toronto:0\n",
            "( 93 / 103 ) Indian Resturants in Stn A PO Boxes, Downtown Toronto:0\n",
            "( 94 / 103 ) Indian Resturants in Alderwood, Long Branch, Etobicoke:0\n",
            "( 95 / 103 ) Indian Resturants in Northwest, West Humber - Clairville, Etobicoke:0\n",
            "( 96 / 103 ) Indian Resturants in Upper Rouge, Scarborough:0\n",
            "( 97 / 103 ) Indian Resturants in St. James Town, Cabbagetown, Downtown Toronto:1\n",
            "( 98 / 103 ) Indian Resturants in First Canadian Place, Underground city, Downtown Toronto:0\n",
            "( 99 / 103 ) Indian Resturants in The Kingsway, Montgomery Road, Old Mill North, Etobicoke:1\n",
            "( 100 / 103 ) Indian Resturants in Church and Wellesley, Downtown Toronto:1\n",
            "( 101 / 103 ) Indian Resturants in Business reply mail Processing Centre, South Central Letter Processing Plant Toronto, East Toronto:0\n",
            "( 102 / 103 ) Indian Resturants in Old Mill South, King's Mill Park, Sunnylea, Humber Bay, Mimico NE, The Queensway East, Royal York South East, Kingsway Park South East, Etobicoke:0\n",
            "( 103 / 103 ) Indian Resturants in Mimico NW, The Queensway West, South of Bloor, Kingsway Park South West, Royal York South West, Etobicoke:0\n"
          ],
          "name": "stdout"
        }
      ]
    },
    {
      "cell_type": "code",
      "metadata": {
        "id": "46fngwM4FLDI",
        "colab_type": "code",
        "colab": {
          "base_uri": "https://localhost:8080/",
          "height": 204
        },
        "outputId": "5de4c949-7481-4948-ccbb-dac0aec8113a"
      },
      "source": [
        "indian_rest_tor.head()"
      ],
      "execution_count": 39,
      "outputs": [
        {
          "output_type": "execute_result",
          "data": {
            "text/html": [
              "<div>\n",
              "<style scoped>\n",
              "    .dataframe tbody tr th:only-of-type {\n",
              "        vertical-align: middle;\n",
              "    }\n",
              "\n",
              "    .dataframe tbody tr th {\n",
              "        vertical-align: top;\n",
              "    }\n",
              "\n",
              "    .dataframe thead th {\n",
              "        text-align: right;\n",
              "    }\n",
              "</style>\n",
              "<table border=\"1\" class=\"dataframe\">\n",
              "  <thead>\n",
              "    <tr style=\"text-align: right;\">\n",
              "      <th></th>\n",
              "      <th>Borough</th>\n",
              "      <th>Neighborhood</th>\n",
              "      <th>ID</th>\n",
              "      <th>Name</th>\n",
              "    </tr>\n",
              "  </thead>\n",
              "  <tbody>\n",
              "    <tr>\n",
              "      <th>0</th>\n",
              "      <td>Downtown Toronto</td>\n",
              "      <td>Regent Park, Harbourfront</td>\n",
              "      <td>4af9a379f964a520c91222e3</td>\n",
              "      <td>Bombay Palace</td>\n",
              "    </tr>\n",
              "    <tr>\n",
              "      <th>1</th>\n",
              "      <td>Downtown Toronto</td>\n",
              "      <td>Regent Park, Harbourfront</td>\n",
              "      <td>52af6dc5498e33995b0bbf03</td>\n",
              "      <td>Sultan Of Samosas</td>\n",
              "    </tr>\n",
              "    <tr>\n",
              "      <th>2</th>\n",
              "      <td>Downtown Toronto</td>\n",
              "      <td>Queen's Park, Ontario Provincial Government</td>\n",
              "      <td>4bedf8b5e24d20a17b567214</td>\n",
              "      <td>Kothur Indian Cuisine</td>\n",
              "    </tr>\n",
              "    <tr>\n",
              "      <th>3</th>\n",
              "      <td>East Toronto</td>\n",
              "      <td>The Beaches</td>\n",
              "      <td>4dcd7c6352b1f8915b7e7f7e</td>\n",
              "      <td>Delhi Bistro</td>\n",
              "    </tr>\n",
              "    <tr>\n",
              "      <th>4</th>\n",
              "      <td>Scarborough</td>\n",
              "      <td>Woburn</td>\n",
              "      <td>4c632edeedd320a19ad5ae29</td>\n",
              "      <td>Bombay Palace</td>\n",
              "    </tr>\n",
              "  </tbody>\n",
              "</table>\n",
              "</div>"
            ],
            "text/plain": [
              "            Borough                                 Neighborhood  \\\n",
              "0  Downtown Toronto                    Regent Park, Harbourfront   \n",
              "1  Downtown Toronto                    Regent Park, Harbourfront   \n",
              "2  Downtown Toronto  Queen's Park, Ontario Provincial Government   \n",
              "3      East Toronto                                  The Beaches   \n",
              "4       Scarborough                                       Woburn   \n",
              "\n",
              "                         ID                   Name  \n",
              "0  4af9a379f964a520c91222e3          Bombay Palace  \n",
              "1  52af6dc5498e33995b0bbf03      Sultan Of Samosas  \n",
              "2  4bedf8b5e24d20a17b567214  Kothur Indian Cuisine  \n",
              "3  4dcd7c6352b1f8915b7e7f7e           Delhi Bistro  \n",
              "4  4c632edeedd320a19ad5ae29          Bombay Palace  "
            ]
          },
          "metadata": {
            "tags": []
          },
          "execution_count": 39
        }
      ]
    },
    {
      "cell_type": "code",
      "metadata": {
        "id": "87TWjwpyFLCJ",
        "colab_type": "code",
        "colab": {
          "base_uri": "https://localhost:8080/",
          "height": 34
        },
        "outputId": "eca33ece-86fb-42f9-9ce2-22a9e022c2c4"
      },
      "source": [
        "indian_rest_tor.shape"
      ],
      "execution_count": 40,
      "outputs": [
        {
          "output_type": "execute_result",
          "data": {
            "text/plain": [
              "(46, 4)"
            ]
          },
          "metadata": {
            "tags": []
          },
          "execution_count": 40
        }
      ]
    },
    {
      "cell_type": "code",
      "metadata": {
        "id": "l9BFHYXXFK94",
        "colab_type": "code",
        "colab": {
          "base_uri": "https://localhost:8080/",
          "height": 601
        },
        "outputId": "c2272c4e-ab75-41e9-9f1d-4b5b98723e8f"
      },
      "source": [
        "plt.figure(figsize=(9,5), dpi = 100)\n",
        "# title\n",
        "plt.title('Number of Indian Resturants for each Borough in Toronto')\n",
        "#On x-axis\n",
        "plt.xlabel('Borough', fontsize = 15)\n",
        "#On y-axis\n",
        "plt.ylabel('No.of Indian Resturants', fontsize=15)\n",
        "#giving a bar plot\n",
        "indian_rest_tor.groupby('Borough')['ID'].count().plot(kind='bar')\n",
        "#legend\n",
        "plt.legend()\n",
        "#displays the plot\n",
        "plt.show()"
      ],
      "execution_count": 41,
      "outputs": [
        {
          "output_type": "display_data",
          "data": {
            "image/png": "[encoded data removed]",
            "text/plain": [
              "<Figure size 900x500 with 1 Axes>"
            ]
          },
          "metadata": {
            "tags": [],
            "needs_background": "light"
          }
        }
      ]
    },
    {
      "cell_type": "code",
      "metadata": {
        "id": "cW_pEc7sFK5x",
        "colab_type": "code",
        "colab": {
          "base_uri": "https://localhost:8080/",
          "height": 773
        },
        "outputId": "82e439ee-7827-4a7f-aaa5-4706e3dea7ca"
      },
      "source": [
        "plt.figure(figsize=(9,5), dpi = 100)\n",
        "# title\n",
        "plt.title('Number of Indian Resturants for each Neighborhood in Toronto')\n",
        "#On x-axis\n",
        "plt.xlabel('Neighborhood', fontsize = 15)\n",
        "#On y-axis\n",
        "plt.ylabel('No.of Indian Resturants', fontsize=15)\n",
        "#giving a bar plot\n",
        "indian_rest_tor.groupby('Neighborhood')['ID'].count().nlargest(5).plot(kind='bar')\n",
        "#legend\n",
        "plt.legend()\n",
        "#displays the plot\n",
        "plt.show()"
      ],
      "execution_count": 42,
      "outputs": [
        {
          "output_type": "display_data",
          "data": {
            "image/png": "[encoded data removed]",
            "text/plain": [
              "<Figure size 900x500 with 1 Axes>"
            ]
          },
          "metadata": {
            "tags": [],
            "needs_background": "light"
          }
        }
      ]
    },
    {
      "cell_type": "code",
      "metadata": {
        "id": "9YktcJi3FKyM",
        "colab_type": "code",
        "colab": {
          "base_uri": "https://localhost:8080/",
          "height": 351
        },
        "outputId": "22903f01-363f-46c9-dc5d-0b0fb9ddc57f"
      },
      "source": [
        "# prepare neighborhood list that contains indian resturants\n",
        "column_names=['Borough', 'Neighborhood', 'ID','Name','Likes','Rating','Tips']\n",
        "indian_rest_stats_tor=pd.DataFrame(columns=column_names)\n",
        "count=1\n",
        "\n",
        "\n",
        "for row in indian_rest_tor.values.tolist():\n",
        "    Borough,Neighborhood,ID,Name=row\n",
        "    try:\n",
        "        venue_details=get_venue_details(ID)\n",
        "        print(venue_details)\n",
        "        id,name,likes,rating,tips=venue_details.values.tolist()[0]\n",
        "    except IndexError:\n",
        "        print('No data available for id=',ID)\n",
        "        # we will assign 0 value for these resturants as they may have been \n",
        "        #recently opened or details does not exist in FourSquare Database\n",
        "        id,name,likes,rating,tips=[0]*5\n",
        "    print('(',count,'/',len(indian_rest_tor),')','processed')\n",
        "    indian_rest_stats_tor = indian_rest_stats_tor.append({'Borough': Borough,\n",
        "                                                'Neighborhood': Neighborhood, \n",
        "                                                'ID': id,\n",
        "                                                'Name' : name,\n",
        "                                                'Likes' : likes,\n",
        "                                                'Rating' : rating,\n",
        "                                                'Tips' : tips\n",
        "                                               }, ignore_index=True)\n",
        "    count+=1"
      ],
      "execution_count": 61,
      "outputs": [
        {
          "output_type": "error",
          "ename": "KeyError",
          "evalue": "ignored",
          "traceback": [
            "\u001b[0;31m---------------------------------------------------------------------------\u001b[0m",
            "\u001b[0;31mKeyError\u001b[0m                                  Traceback (most recent call last)",
            "\u001b[0;32m<ipython-input-61-7434bd12da02>\u001b[0m in \u001b[0;36m<module>\u001b[0;34m()\u001b[0m\n\u001b[1;32m      8\u001b[0m     \u001b[0mBorough\u001b[0m\u001b[0;34m,\u001b[0m\u001b[0mNeighborhood\u001b[0m\u001b[0;34m,\u001b[0m\u001b[0mID\u001b[0m\u001b[0;34m,\u001b[0m\u001b[0mName\u001b[0m\u001b[0;34m=\u001b[0m\u001b[0mrow\u001b[0m\u001b[0;34m\u001b[0m\u001b[0;34m\u001b[0m\u001b[0m\n\u001b[1;32m      9\u001b[0m     \u001b[0;32mtry\u001b[0m\u001b[0;34m:\u001b[0m\u001b[0;34m\u001b[0m\u001b[0;34m\u001b[0m\u001b[0m\n\u001b[0;32m---> 10\u001b[0;31m         \u001b[0mvenue_details\u001b[0m\u001b[0;34m=\u001b[0m\u001b[0mget_venue_details\u001b[0m\u001b[0;34m(\u001b[0m\u001b[0mID\u001b[0m\u001b[0;34m)\u001b[0m\u001b[0;34m\u001b[0m\u001b[0;34m\u001b[0m\u001b[0m\n\u001b[0m\u001b[1;32m     11\u001b[0m         \u001b[0mprint\u001b[0m\u001b[0;34m(\u001b[0m\u001b[0mvenue_details\u001b[0m\u001b[0;34m)\u001b[0m\u001b[0;34m\u001b[0m\u001b[0;34m\u001b[0m\u001b[0m\n\u001b[1;32m     12\u001b[0m         \u001b[0mid\u001b[0m\u001b[0;34m,\u001b[0m\u001b[0mname\u001b[0m\u001b[0;34m,\u001b[0m\u001b[0mlikes\u001b[0m\u001b[0;34m,\u001b[0m\u001b[0mrating\u001b[0m\u001b[0;34m,\u001b[0m\u001b[0mtips\u001b[0m\u001b[0;34m=\u001b[0m\u001b[0mvenue_details\u001b[0m\u001b[0;34m.\u001b[0m\u001b[0mvalues\u001b[0m\u001b[0;34m.\u001b[0m\u001b[0mtolist\u001b[0m\u001b[0;34m(\u001b[0m\u001b[0;34m)\u001b[0m\u001b[0;34m[\u001b[0m\u001b[0;36m0\u001b[0m\u001b[0;34m]\u001b[0m\u001b[0;34m\u001b[0m\u001b[0;34m\u001b[0m\u001b[0m\n",
            "\u001b[0;32m<ipython-input-31-16ba1e9acf94>\u001b[0m in \u001b[0;36mget_venue_details\u001b[0;34m(venue_id)\u001b[0m\n\u001b[1;32m     13\u001b[0m     \u001b[0;31m# get all the data\u001b[0m\u001b[0;34m\u001b[0m\u001b[0;34m\u001b[0m\u001b[0;34m\u001b[0m\u001b[0m\n\u001b[1;32m     14\u001b[0m     \u001b[0mresults\u001b[0m \u001b[0;34m=\u001b[0m \u001b[0mrequests\u001b[0m\u001b[0;34m.\u001b[0m\u001b[0mget\u001b[0m\u001b[0;34m(\u001b[0m\u001b[0murl\u001b[0m\u001b[0;34m)\u001b[0m\u001b[0;34m.\u001b[0m\u001b[0mjson\u001b[0m\u001b[0;34m(\u001b[0m\u001b[0;34m)\u001b[0m\u001b[0;34m\u001b[0m\u001b[0;34m\u001b[0m\u001b[0m\n\u001b[0;32m---> 15\u001b[0;31m     \u001b[0mvenue_data\u001b[0m\u001b[0;34m=\u001b[0m\u001b[0mresults\u001b[0m\u001b[0;34m[\u001b[0m\u001b[0;34m'response'\u001b[0m\u001b[0;34m]\u001b[0m\u001b[0;34m[\u001b[0m\u001b[0;34m'venue'\u001b[0m\u001b[0;34m]\u001b[0m\u001b[0;34m\u001b[0m\u001b[0;34m\u001b[0m\u001b[0m\n\u001b[0m\u001b[1;32m     16\u001b[0m     \u001b[0mvenue_details\u001b[0m\u001b[0;34m=\u001b[0m\u001b[0;34m[\u001b[0m\u001b[0;34m]\u001b[0m\u001b[0;34m\u001b[0m\u001b[0;34m\u001b[0m\u001b[0m\n\u001b[1;32m     17\u001b[0m     \u001b[0;32mtry\u001b[0m\u001b[0;34m:\u001b[0m\u001b[0;34m\u001b[0m\u001b[0;34m\u001b[0m\u001b[0m\n",
            "\u001b[0;31mKeyError\u001b[0m: 'venue'"
          ]
        }
      ]
    },
    {
      "cell_type": "code",
      "metadata": {
        "id": "J-RK8-hQFawL",
        "colab_type": "code",
        "colab": {
          "base_uri": "https://localhost:8080/",
          "height": 49
        },
        "outputId": "f0eb38c6-4e2a-4878-eb77-021a923fb9d6"
      },
      "source": [
        "indian_rest_stats_tor.head()"
      ],
      "execution_count": 58,
      "outputs": [
        {
          "output_type": "execute_result",
          "data": {
            "text/html": [
              "<div>\n",
              "<style scoped>\n",
              "    .dataframe tbody tr th:only-of-type {\n",
              "        vertical-align: middle;\n",
              "    }\n",
              "\n",
              "    .dataframe tbody tr th {\n",
              "        vertical-align: top;\n",
              "    }\n",
              "\n",
              "    .dataframe thead th {\n",
              "        text-align: right;\n",
              "    }\n",
              "</style>\n",
              "<table border=\"1\" class=\"dataframe\">\n",
              "  <thead>\n",
              "    <tr style=\"text-align: right;\">\n",
              "      <th></th>\n",
              "      <th>Borough</th>\n",
              "      <th>Neighborhood</th>\n",
              "      <th>ID</th>\n",
              "      <th>Name</th>\n",
              "      <th>Likes</th>\n",
              "      <th>Rating</th>\n",
              "      <th>Tips</th>\n",
              "    </tr>\n",
              "  </thead>\n",
              "  <tbody>\n",
              "  </tbody>\n",
              "</table>\n",
              "</div>"
            ],
            "text/plain": [
              "Empty DataFrame\n",
              "Columns: [Borough, Neighborhood, ID, Name, Likes, Rating, Tips]\n",
              "Index: []"
            ]
          },
          "metadata": {
            "tags": []
          },
          "execution_count": 58
        }
      ]
    },
    {
      "cell_type": "code",
      "metadata": {
        "id": "RQCJ-vUvFarg",
        "colab_type": "code",
        "colab": {}
      },
      "source": [
        "indian_rest_stats_tor.to_csv('indian_rest_stats_tor.csv', index=False)"
      ],
      "execution_count": 0,
      "outputs": []
    },
    {
      "cell_type": "code",
      "metadata": {
        "id": "Z8IB9iHiFaqd",
        "colab_type": "code",
        "colab": {}
      },
      "source": [
        "indian_rest_stats_tor_csv=pd.read_csv('indian_rest_stats_tor.csv')"
      ],
      "execution_count": 0,
      "outputs": []
    },
    {
      "cell_type": "code",
      "metadata": {
        "id": "r6jHI1TRFapS",
        "colab_type": "code",
        "colab": {
          "base_uri": "https://localhost:8080/",
          "height": 34
        },
        "outputId": "333c1da1-d304-4cdf-b651-32e05eaf6953"
      },
      "source": [
        "indian_rest_stats_tor_csv.shape"
      ],
      "execution_count": 23,
      "outputs": [
        {
          "output_type": "execute_result",
          "data": {
            "text/plain": [
              "(0, 7)"
            ]
          },
          "metadata": {
            "tags": []
          },
          "execution_count": 23
        }
      ]
    },
    {
      "cell_type": "code",
      "metadata": {
        "id": "_BZnPGE5FakA",
        "colab_type": "code",
        "colab": {
          "base_uri": "https://localhost:8080/",
          "height": 49
        },
        "outputId": "d185bec0-d7e6-41b9-d3d9-ade45bff329f"
      },
      "source": [
        "indian_rest_stats_tor_csv.head()\n"
      ],
      "execution_count": 24,
      "outputs": [
        {
          "output_type": "execute_result",
          "data": {
            "text/html": [
              "<div>\n",
              "<style scoped>\n",
              "    .dataframe tbody tr th:only-of-type {\n",
              "        vertical-align: middle;\n",
              "    }\n",
              "\n",
              "    .dataframe tbody tr th {\n",
              "        vertical-align: top;\n",
              "    }\n",
              "\n",
              "    .dataframe thead th {\n",
              "        text-align: right;\n",
              "    }\n",
              "</style>\n",
              "<table border=\"1\" class=\"dataframe\">\n",
              "  <thead>\n",
              "    <tr style=\"text-align: right;\">\n",
              "      <th></th>\n",
              "      <th>Borough</th>\n",
              "      <th>Neighborhood</th>\n",
              "      <th>ID</th>\n",
              "      <th>Name</th>\n",
              "      <th>Likes</th>\n",
              "      <th>Rating</th>\n",
              "      <th>Tips</th>\n",
              "    </tr>\n",
              "  </thead>\n",
              "  <tbody>\n",
              "  </tbody>\n",
              "</table>\n",
              "</div>"
            ],
            "text/plain": [
              "Empty DataFrame\n",
              "Columns: [Borough, Neighborhood, ID, Name, Likes, Rating, Tips]\n",
              "Index: []"
            ]
          },
          "metadata": {
            "tags": []
          },
          "execution_count": 24
        }
      ]
    },
    {
      "cell_type": "code",
      "metadata": {
        "id": "aeKQ-VR8FafJ",
        "colab_type": "code",
        "colab": {
          "base_uri": "https://localhost:8080/",
          "height": 255
        },
        "outputId": "3d5a7139-062f-4f40-b15e-c63073f2723d"
      },
      "source": [
        "indian_rest_stats_tor.info()"
      ],
      "execution_count": 43,
      "outputs": [
        {
          "output_type": "stream",
          "text": [
            "<class 'pandas.core.frame.DataFrame'>\n",
            "RangeIndex: 46 entries, 0 to 45\n",
            "Data columns (total 7 columns):\n",
            " #   Column        Non-Null Count  Dtype  \n",
            "---  ------        --------------  -----  \n",
            " 0   Borough       46 non-null     object \n",
            " 1   Neighborhood  46 non-null     object \n",
            " 2   ID            46 non-null     object \n",
            " 3   Name          46 non-null     object \n",
            " 4   Likes         46 non-null     object \n",
            " 5   Rating        46 non-null     float64\n",
            " 6   Tips          46 non-null     object \n",
            "dtypes: float64(1), object(6)\n",
            "memory usage: 2.6+ KB\n"
          ],
          "name": "stdout"
        }
      ]
    },
    {
      "cell_type": "code",
      "metadata": {
        "id": "xduBLww1FacM",
        "colab_type": "code",
        "colab": {}
      },
      "source": [
        "indian_rest_stats_tor['Likes']=indian_rest_stats_tor['Likes'].astype('float64')\n",
        "indian_rest_stats_tor['Tips']=indian_rest_stats_tor['Tips'].astype('float64')"
      ],
      "execution_count": 0,
      "outputs": []
    },
    {
      "cell_type": "code",
      "metadata": {
        "id": "oKQqMkOsF5KM",
        "colab_type": "code",
        "colab": {
          "base_uri": "https://localhost:8080/",
          "height": 255
        },
        "outputId": "bf288fb9-918e-4276-b7ce-a1b6e5cec404"
      },
      "source": [
        "indian_rest_stats_tor.info()"
      ],
      "execution_count": 45,
      "outputs": [
        {
          "output_type": "stream",
          "text": [
            "<class 'pandas.core.frame.DataFrame'>\n",
            "RangeIndex: 46 entries, 0 to 45\n",
            "Data columns (total 7 columns):\n",
            " #   Column        Non-Null Count  Dtype  \n",
            "---  ------        --------------  -----  \n",
            " 0   Borough       46 non-null     object \n",
            " 1   Neighborhood  46 non-null     object \n",
            " 2   ID            46 non-null     object \n",
            " 3   Name          46 non-null     object \n",
            " 4   Likes         46 non-null     float64\n",
            " 5   Rating        46 non-null     float64\n",
            " 6   Tips          46 non-null     float64\n",
            "dtypes: float64(3), object(4)\n",
            "memory usage: 2.6+ KB\n"
          ],
          "name": "stdout"
        }
      ]
    },
    {
      "cell_type": "code",
      "metadata": {
        "id": "LVwq6R_8F5A7",
        "colab_type": "code",
        "colab": {
          "base_uri": "https://localhost:8080/",
          "height": 153
        },
        "outputId": "4dfc96e9-7108-4333-cc72-6df96aff763f"
      },
      "source": [
        "indian_rest_stats_tor.iloc[indian_rest_stats_tor['Likes'].idxmax()]"
      ],
      "execution_count": 46,
      "outputs": [
        {
          "output_type": "execute_result",
          "data": {
            "text/plain": [
              "Borough                 Downtown Toronto\n",
              "Neighborhood                    Christie\n",
              "ID              4adb969ef964a520332921e3\n",
              "Name              Banjara Indian Cuisine\n",
              "Likes                                142\n",
              "Rating                               8.8\n",
              "Tips                                  75\n",
              "Name: 6, dtype: object"
            ]
          },
          "metadata": {
            "tags": []
          },
          "execution_count": 46
        }
      ]
    },
    {
      "cell_type": "code",
      "metadata": {
        "id": "0e68TVG9F4_r",
        "colab_type": "code",
        "colab": {
          "base_uri": "https://localhost:8080/",
          "height": 153
        },
        "outputId": "9d86b1b2-2b19-405e-90c9-0675d0559af6"
      },
      "source": [
        "indian_rest_stats_tor.iloc[indian_rest_stats_tor['Rating'].idxmax()]"
      ],
      "execution_count": 47,
      "outputs": [
        {
          "output_type": "execute_result",
          "data": {
            "text/plain": [
              "Borough                 Downtown Toronto\n",
              "Neighborhood                    Christie\n",
              "ID              4adb969ef964a520332921e3\n",
              "Name              Banjara Indian Cuisine\n",
              "Likes                                142\n",
              "Rating                               8.8\n",
              "Tips                                  75\n",
              "Name: 6, dtype: object"
            ]
          },
          "metadata": {
            "tags": []
          },
          "execution_count": 47
        }
      ]
    },
    {
      "cell_type": "code",
      "metadata": {
        "id": "HBaTxWFdF45U",
        "colab_type": "code",
        "colab": {
          "base_uri": "https://localhost:8080/",
          "height": 153
        },
        "outputId": "215f1d2c-c9e7-4af0-b149-a1185fcde243"
      },
      "source": [
        "# Resturant with maximum Tips\n",
        "indian_rest_stats_tor.iloc[indian_rest_stats_tor['Tips'].idxmax()]"
      ],
      "execution_count": 48,
      "outputs": [
        {
          "output_type": "execute_result",
          "data": {
            "text/plain": [
              "Borough                 Downtown Toronto\n",
              "Neighborhood                    Christie\n",
              "ID              4adb969ef964a520332921e3\n",
              "Name              Banjara Indian Cuisine\n",
              "Likes                                142\n",
              "Rating                               8.8\n",
              "Tips                                  75\n",
              "Name: 6, dtype: object"
            ]
          },
          "metadata": {
            "tags": []
          },
          "execution_count": 48
        }
      ]
    },
    {
      "cell_type": "code",
      "metadata": {
        "id": "NNZb1eiEF40f",
        "colab_type": "code",
        "colab": {}
      },
      "source": [
        "tor_neighborhood_stats=indian_rest_stats_tor.groupby('Neighborhood',as_index=False).mean()[['Neighborhood','Rating']]\n",
        "tor_neighborhood_stats.columns=['Neighborhood','Average Rating']"
      ],
      "execution_count": 0,
      "outputs": []
    },
    {
      "cell_type": "code",
      "metadata": {
        "id": "q0_QkkXULBN3",
        "colab_type": "code",
        "colab": {
          "base_uri": "https://localhost:8080/",
          "height": 359
        },
        "outputId": "1c6e27de-f0c1-4481-f3c7-4ac9763a93bf"
      },
      "source": [
        "tor_neighborhood_stats.sort_values(['Average Rating'],ascending=False).head(10)"
      ],
      "execution_count": 50,
      "outputs": [
        {
          "output_type": "execute_result",
          "data": {
            "text/html": [
              "<div>\n",
              "<style scoped>\n",
              "    .dataframe tbody tr th:only-of-type {\n",
              "        vertical-align: middle;\n",
              "    }\n",
              "\n",
              "    .dataframe tbody tr th {\n",
              "        vertical-align: top;\n",
              "    }\n",
              "\n",
              "    .dataframe thead th {\n",
              "        text-align: right;\n",
              "    }\n",
              "</style>\n",
              "<table border=\"1\" class=\"dataframe\">\n",
              "  <thead>\n",
              "    <tr style=\"text-align: right;\">\n",
              "      <th></th>\n",
              "      <th>Neighborhood</th>\n",
              "      <th>Average Rating</th>\n",
              "    </tr>\n",
              "  </thead>\n",
              "  <tbody>\n",
              "    <tr>\n",
              "      <th>19</th>\n",
              "      <td>St. James Town, Cabbagetown</td>\n",
              "      <td>8.40</td>\n",
              "    </tr>\n",
              "    <tr>\n",
              "      <th>5</th>\n",
              "      <td>Christie</td>\n",
              "      <td>8.35</td>\n",
              "    </tr>\n",
              "    <tr>\n",
              "      <th>11</th>\n",
              "      <td>High Park, The Junction South</td>\n",
              "      <td>8.30</td>\n",
              "    </tr>\n",
              "    <tr>\n",
              "      <th>20</th>\n",
              "      <td>The Annex, North Midtown, Yorkville</td>\n",
              "      <td>8.15</td>\n",
              "    </tr>\n",
              "    <tr>\n",
              "      <th>6</th>\n",
              "      <td>Church and Wellesley</td>\n",
              "      <td>8.10</td>\n",
              "    </tr>\n",
              "    <tr>\n",
              "      <th>15</th>\n",
              "      <td>Queen's Park, Ontario Provincial Government</td>\n",
              "      <td>8.10</td>\n",
              "    </tr>\n",
              "    <tr>\n",
              "      <th>25</th>\n",
              "      <td>Wexford, Maryvale</td>\n",
              "      <td>8.00</td>\n",
              "    </tr>\n",
              "    <tr>\n",
              "      <th>2</th>\n",
              "      <td>Brockton, Parkdale Village, Exhibition Place</td>\n",
              "      <td>7.85</td>\n",
              "    </tr>\n",
              "    <tr>\n",
              "      <th>1</th>\n",
              "      <td>Bedford Park, Lawrence Manor East</td>\n",
              "      <td>7.40</td>\n",
              "    </tr>\n",
              "    <tr>\n",
              "      <th>4</th>\n",
              "      <td>Cedarbrae</td>\n",
              "      <td>7.40</td>\n",
              "    </tr>\n",
              "  </tbody>\n",
              "</table>\n",
              "</div>"
            ],
            "text/plain": [
              "                                    Neighborhood  Average Rating\n",
              "19                   St. James Town, Cabbagetown            8.40\n",
              "5                                       Christie            8.35\n",
              "11                 High Park, The Junction South            8.30\n",
              "20           The Annex, North Midtown, Yorkville            8.15\n",
              "6                           Church and Wellesley            8.10\n",
              "15   Queen's Park, Ontario Provincial Government            8.10\n",
              "25                             Wexford, Maryvale            8.00\n",
              "2   Brockton, Parkdale Village, Exhibition Place            7.85\n",
              "1              Bedford Park, Lawrence Manor East            7.40\n",
              "4                                      Cedarbrae            7.40"
            ]
          },
          "metadata": {
            "tags": []
          },
          "execution_count": 50
        }
      ]
    },
    {
      "cell_type": "code",
      "metadata": {
        "id": "BCO-hiJFLDy6",
        "colab_type": "code",
        "colab": {}
      },
      "source": [
        "tor_borough_stats=indian_rest_stats_tor.groupby('Borough',as_index=False).mean()[['Borough','Rating']]\n",
        "tor_borough_stats.columns=['Borough','Average Rating']"
      ],
      "execution_count": 0,
      "outputs": []
    },
    {
      "cell_type": "code",
      "metadata": {
        "id": "2A20gIN3LHZx",
        "colab_type": "code",
        "colab": {
          "base_uri": "https://localhost:8080/",
          "height": 204
        },
        "outputId": "fec232c1-9e7d-4ecf-a1af-d6840f81e497"
      },
      "source": [
        "tor_borough_stats.sort_values(['Average Rating'],ascending=False).head()"
      ],
      "execution_count": 52,
      "outputs": [
        {
          "output_type": "execute_result",
          "data": {
            "text/html": [
              "<div>\n",
              "<style scoped>\n",
              "    .dataframe tbody tr th:only-of-type {\n",
              "        vertical-align: middle;\n",
              "    }\n",
              "\n",
              "    .dataframe tbody tr th {\n",
              "        vertical-align: top;\n",
              "    }\n",
              "\n",
              "    .dataframe thead th {\n",
              "        text-align: right;\n",
              "    }\n",
              "</style>\n",
              "<table border=\"1\" class=\"dataframe\">\n",
              "  <thead>\n",
              "    <tr style=\"text-align: right;\">\n",
              "      <th></th>\n",
              "      <th>Borough</th>\n",
              "      <th>Average Rating</th>\n",
              "    </tr>\n",
              "  </thead>\n",
              "  <tbody>\n",
              "    <tr>\n",
              "      <th>1</th>\n",
              "      <td>Downtown Toronto</td>\n",
              "      <td>7.80</td>\n",
              "    </tr>\n",
              "    <tr>\n",
              "      <th>8</th>\n",
              "      <td>West Toronto</td>\n",
              "      <td>7.75</td>\n",
              "    </tr>\n",
              "    <tr>\n",
              "      <th>0</th>\n",
              "      <td>Central Toronto</td>\n",
              "      <td>7.66</td>\n",
              "    </tr>\n",
              "    <tr>\n",
              "      <th>4</th>\n",
              "      <td>Etobicoke</td>\n",
              "      <td>7.05</td>\n",
              "    </tr>\n",
              "    <tr>\n",
              "      <th>6</th>\n",
              "      <td>North York</td>\n",
              "      <td>6.75</td>\n",
              "    </tr>\n",
              "  </tbody>\n",
              "</table>\n",
              "</div>"
            ],
            "text/plain": [
              "            Borough  Average Rating\n",
              "1  Downtown Toronto            7.80\n",
              "8      West Toronto            7.75\n",
              "0   Central Toronto            7.66\n",
              "4         Etobicoke            7.05\n",
              "6        North York            6.75"
            ]
          },
          "metadata": {
            "tags": []
          },
          "execution_count": 52
        }
      ]
    },
    {
      "cell_type": "code",
      "metadata": {
        "id": "IOKFwfGxLKgA",
        "colab_type": "code",
        "colab": {
          "base_uri": "https://localhost:8080/",
          "height": 601
        },
        "outputId": "4d8f8cd9-995a-4b76-c849-b70a0399767b"
      },
      "source": [
        "plt.figure(figsize=(9,5), dpi = 100)\n",
        "# title\n",
        "plt.title('Average rating of Indian Resturants for each Borough')\n",
        "#On x-axis\n",
        "plt.xlabel('Borough', fontsize = 15)\n",
        "#On y-axis\n",
        "plt.ylabel('Average Rating', fontsize=15)\n",
        "#giving a bar plot\n",
        "indian_rest_stats_tor.groupby('Borough').mean()['Rating'].plot(kind='bar')\n",
        "#legend\n",
        "plt.legend()\n",
        "#displays the plot\n",
        "plt.show()"
      ],
      "execution_count": 53,
      "outputs": [
        {
          "output_type": "display_data",
          "data": {
            "image/png": "[encoded data removed]",
            "text/plain": [
              "<Figure size 900x500 with 1 Axes>"
            ]
          },
          "metadata": {
            "tags": [],
            "needs_background": "light"
          }
        }
      ]
    },
    {
      "cell_type": "code",
      "metadata": {
        "id": "I1abc54CLOGG",
        "colab_type": "code",
        "colab": {}
      },
      "source": [
        "tor_neighborhood_stats=tor_neighborhood_stats[tor_neighborhood_stats['Average Rating']>=8.0]"
      ],
      "execution_count": 0,
      "outputs": []
    },
    {
      "cell_type": "code",
      "metadata": {
        "id": "nGyzR5-dLRkh",
        "colab_type": "code",
        "colab": {
          "base_uri": "https://localhost:8080/",
          "height": 49
        },
        "outputId": "de325bc9-92ad-4397-bd64-6d6df228a09b"
      },
      "source": [
        "tor_neighborhood_stats"
      ],
      "execution_count": 55,
      "outputs": [
        {
          "output_type": "execute_result",
          "data": {
            "text/html": [
              "<div>\n",
              "<style scoped>\n",
              "    .dataframe tbody tr th:only-of-type {\n",
              "        vertical-align: middle;\n",
              "    }\n",
              "\n",
              "    .dataframe tbody tr th {\n",
              "        vertical-align: top;\n",
              "    }\n",
              "\n",
              "    .dataframe thead th {\n",
              "        text-align: right;\n",
              "    }\n",
              "</style>\n",
              "<table border=\"1\" class=\"dataframe\">\n",
              "  <thead>\n",
              "    <tr style=\"text-align: right;\">\n",
              "      <th></th>\n",
              "      <th>Neighborhood</th>\n",
              "      <th>Average Rating</th>\n",
              "    </tr>\n",
              "  </thead>\n",
              "  <tbody>\n",
              "  </tbody>\n",
              "</table>\n",
              "</div>"
            ],
            "text/plain": [
              "Empty DataFrame\n",
              "Columns: [Neighborhood, Average Rating]\n",
              "Index: []"
            ]
          },
          "metadata": {
            "tags": []
          },
          "execution_count": 55
        }
      ]
    },
    {
      "cell_type": "code",
      "metadata": {
        "id": "-OvO73l1LTxu",
        "colab_type": "code",
        "colab": {}
      },
      "source": [
        "tor_neighborhood_stats=pd.merge(tor_neighborhood_stats,Toronto_data, on='Neighborhood')"
      ],
      "execution_count": 0,
      "outputs": []
    },
    {
      "cell_type": "code",
      "metadata": {
        "id": "NFd6H2UvLeq3",
        "colab_type": "code",
        "colab": {}
      },
      "source": [
        "tor_neighborhood_stats=tor_neighborhood_stats[['Borough','Neighborhood','Latitude','Longitude','Average Rating']]"
      ],
      "execution_count": 0,
      "outputs": []
    },
    {
      "cell_type": "code",
      "metadata": {
        "id": "7ckruo2ILhVN",
        "colab_type": "code",
        "colab": {
          "base_uri": "https://localhost:8080/",
          "height": 49
        },
        "outputId": "b7a63ca5-2c71-48c3-d46b-4109587abd99"
      },
      "source": [
        "tor_neighborhood_stats"
      ],
      "execution_count": 58,
      "outputs": [
        {
          "output_type": "execute_result",
          "data": {
            "text/html": [
              "<div>\n",
              "<style scoped>\n",
              "    .dataframe tbody tr th:only-of-type {\n",
              "        vertical-align: middle;\n",
              "    }\n",
              "\n",
              "    .dataframe tbody tr th {\n",
              "        vertical-align: top;\n",
              "    }\n",
              "\n",
              "    .dataframe thead th {\n",
              "        text-align: right;\n",
              "    }\n",
              "</style>\n",
              "<table border=\"1\" class=\"dataframe\">\n",
              "  <thead>\n",
              "    <tr style=\"text-align: right;\">\n",
              "      <th></th>\n",
              "      <th>Borough</th>\n",
              "      <th>Neighborhood</th>\n",
              "      <th>Latitude</th>\n",
              "      <th>Longitude</th>\n",
              "      <th>Average Rating</th>\n",
              "    </tr>\n",
              "  </thead>\n",
              "  <tbody>\n",
              "  </tbody>\n",
              "</table>\n",
              "</div>"
            ],
            "text/plain": [
              "Empty DataFrame\n",
              "Columns: [Borough, Neighborhood, Latitude, Longitude, Average Rating]\n",
              "Index: []"
            ]
          },
          "metadata": {
            "tags": []
          },
          "execution_count": 58
        }
      ]
    },
    {
      "cell_type": "code",
      "metadata": {
        "id": "3ccLbBApLkV8",
        "colab_type": "code",
        "colab": {}
      },
      "source": [
        "tor_map = folium.Map(location=geo_location('Toronto'), zoom_start=12)"
      ],
      "execution_count": 0,
      "outputs": []
    },
    {
      "cell_type": "code",
      "metadata": {
        "id": "8lhRXMWTLri5",
        "colab_type": "code",
        "colab": {}
      },
      "source": [
        "# instantiate a feature group for the incidents in the dataframe\n",
        "incidents = folium.map.FeatureGroup()\n",
        "\n",
        "# loop through the neighborhood and add each to the feature group\n",
        "for lat, lng, in tor_neighborhood_stats[['Latitude','Longitude']].values:\n",
        "    incidents.add_child(\n",
        "        folium.CircleMarker(\n",
        "            [lat, lng],\n",
        "            radius=10, # define how big you want the circle markers to be\n",
        "            color='yellow',\n",
        "            fill=True,\n",
        "            fill_color='blue',\n",
        "            fill_opacity=0.6\n",
        "        )\n",
        "    )"
      ],
      "execution_count": 0,
      "outputs": []
    },
    {
      "cell_type": "code",
      "metadata": {
        "id": "UIi-Pc9ALw0V",
        "colab_type": "code",
        "colab": {}
      },
      "source": [
        "tor_neighborhood_stats['Label']=tor_neighborhood_stats['Neighborhood']+', '+tor_neighborhood_stats['Borough']+'('+tor_neighborhood_stats['Average Rating'].map(str)+')'\n"
      ],
      "execution_count": 0,
      "outputs": []
    },
    {
      "cell_type": "code",
      "metadata": {
        "id": "47ugK5esLyVt",
        "colab_type": "code",
        "colab": {
          "base_uri": "https://localhost:8080/",
          "height": 808
        },
        "outputId": "641a82e7-233c-4499-e638-a132b71ee429"
      },
      "source": [
        "# add pop-up text to each marker on the map\n",
        "for lat, lng, label in tor_neighborhood_stats[['Latitude','Longitude','Label']].values:\n",
        "    folium.Marker([lat, lng], popup=label).add_to(tor_map)        \n",
        "# add incidents to map\n",
        "tor_map.add_child(incidents)"
      ],
      "execution_count": 62,
      "outputs": [
        {
          "output_type": "execute_result",
          "data": {
            "text/html": [
              "<div style=\"width:100%;\"><div style=\"position:relative;width:100%;height:0;padding-bottom:60%;\"><span style=\"color:#565656\">Make this Notebook Trusted to load map: File -> Trust Notebook</span><iframe src=\"about:blank\" style=\"position:absolute;width:100%;height:100%;left:0;top:0;border:none !important;\" data-html=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 onload=\"this.contentDocument.open();this.contentDocument.write(atob(this.getAttribute('data-html')));this.contentDocument.close();\" allowfullscreen webkitallowfullscreen mozallowfullscreen></iframe></div></div>"
            ],
            "text/plain": [
              "<folium.folium.Map at 0x7ff2910c4748>"
            ]
          },
          "metadata": {
            "tags": []
          },
          "execution_count": 62
        }
      ]
    },
    {
      "cell_type": "code",
      "metadata": {
        "id": "uBvRyMReL5nP",
        "colab_type": "code",
        "colab": {}
      },
      "source": [
        ""
      ],
      "execution_count": 0,
      "outputs": []
    }
  ]
}